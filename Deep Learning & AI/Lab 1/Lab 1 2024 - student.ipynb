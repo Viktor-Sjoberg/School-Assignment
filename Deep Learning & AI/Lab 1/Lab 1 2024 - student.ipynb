{
 "cells": [
  {
   "cell_type": "markdown",
   "id": "9e7bfe87-4472-432a-9591-db7d57d4cf57",
   "metadata": {},
   "source": [
    "# STAN47 Lab 1: Programming and Mathematical Foundamentals\n",
    "* Instructors: [Małgorzata Bogdan](https://portal.research.lu.se/sv/persons/malgorzata-bogdan), [Hanqing Wu](https://portal.research.lu.se/en/persons/hanqing-wu)"
   ]
  },
  {
   "cell_type": "markdown",
   "id": "c3ba8ebb-3822-41eb-9db1-eef43c3e6ce9",
   "metadata": {
    "jp-MarkdownHeadingCollapsed": true
   },
   "source": [
    "## Warm-up session"
   ]
  },
  {
   "cell_type": "markdown",
   "id": "fb1787da-84b7-4e2b-8a72-4090135254b5",
   "metadata": {},
   "source": [
    "### Defining functions"
   ]
  },
  {
   "cell_type": "markdown",
   "id": "8ccf97bd-ab69-4635-9d45-f0eee5f71cfe",
   "metadata": {},
   "source": [
    "Assuming that we have already had basic knowledge about introductory level of Python programming, let us take a look at the following function that aims to trim white space from a string and capitalize the first letter."
   ]
  },
  {
   "cell_type": "code",
   "execution_count": 45,
   "id": "da64e273-b309-418c-ad0a-0bf2eef64d42",
   "metadata": {},
   "outputs": [],
   "source": [
    "def process_string(str):\n",
    "    t = str.strip()\n",
    "    return t[0].upper()+t[1:]"
   ]
  },
  {
   "cell_type": "markdown",
   "id": "689db690-b34d-4d7c-abda-b6677187d18b",
   "metadata": {},
   "source": [
    "This function can now be called quite easily."
   ]
  },
  {
   "cell_type": "code",
   "execution_count": 46,
   "id": "cb8b0967-af1b-48e5-b9bd-74f06936d174",
   "metadata": {},
   "outputs": [
    {
     "name": "stdout",
     "output_type": "stream",
     "text": [
      "Hello\n"
     ]
    }
   ],
   "source": [
    "str = process_string(\"  hello  \")\n",
    "print(str)"
   ]
  },
  {
   "cell_type": "code",
   "execution_count": 47,
   "id": "2231643a-0186-40e9-8d6f-b6016b0794e5",
   "metadata": {},
   "outputs": [],
   "source": [
    "#Copying a string\n",
    "def double_string(str):\n",
    "    tt = str.strip()\n",
    "    return tt[0:]+tt[0:]"
   ]
  },
  {
   "cell_type": "markdown",
   "id": "d70fe6a3-ac5c-46c0-9507-27895e779d1e",
   "metadata": {},
   "source": [
    "This function can now be called equally easily."
   ]
  },
  {
   "cell_type": "code",
   "execution_count": 48,
   "id": "a2857be2-4018-4fb6-a4ee-8ee1f94222d9",
   "metadata": {},
   "outputs": [
    {
     "name": "stdout",
     "output_type": "stream",
     "text": [
      "HelloHello\n"
     ]
    }
   ],
   "source": [
    "str = double_string(\"Hello\")\n",
    "print(str)"
   ]
  },
  {
   "cell_type": "code",
   "execution_count": 49,
   "id": "0e52ccf0-818f-41a5-8796-4b5fbd83aa37",
   "metadata": {},
   "outputs": [
    {
     "name": "stdout",
     "output_type": "stream",
     "text": [
      "HelloHello\n"
     ]
    }
   ],
   "source": [
    "#The newly defined functions can be superposed\n",
    "\n",
    "str = double_string(process_string(\"  hello   \"))\n",
    "print(str)"
   ]
  },
  {
   "cell_type": "markdown",
   "id": "f2de364b-1ee4-498b-aeda-555bcd8c1342",
   "metadata": {},
   "source": [
    "### Task 1"
   ]
  },
  {
   "cell_type": "markdown",
   "id": "52de5eea-2281-47eb-b298-3c4d5ac4cf5f",
   "metadata": {},
   "source": [
    "The inverse function to $f$ mapping $X$ to $Y$ is the function $g$ such that $g(f(x))=x$ and $f(g(y))=y$. "
   ]
  },
  {
   "cell_type": "markdown",
   "id": "daa7c539-23e7-4d6f-b34e-ae339e8811c2",
   "metadata": {},
   "source": [
    "Write your own functions, which are inverse to process_string and double_string. Name them `inv_process_string` and `inv_double_string` respectively. Assume that the domain of the original functions is restricted to the strings with just one space in front and one space at the end and where the text starts with the lower case letter. Note, that the function len(str) returns the length of the string. \n",
    "\n",
    "Test your functions on a number of selected inputs (such as \" deeplearning \", \" sTatistics\", etc.)"
   ]
  },
  {
   "cell_type": "markdown",
   "id": "8cd0beb8-fca5-4a02-bc56-38db17ec5e68",
   "metadata": {},
   "source": [
    "## Libraries in Python "
   ]
  },
  {
   "cell_type": "markdown",
   "id": "15eeffad-b5a5-41a7-9ffa-4c1178d106eb",
   "metadata": {},
   "source": [
    "Most of the power of a programming language is in its libraries.\n",
    "A library is a collection of files (called modules) that contains functions for use by other programs.\n",
    "May also contain data values (e.g., numerical constants) and other things.\n",
    "Library’s contents are supposed to be related, but there’s no way to enforce that.\n",
    "The Python standard library is an extensive suite of modules that comes with Python itself.\n",
    "Many additional libraries are available from PyPI (the Python Package Index).\n",
    "\n",
    "\n",
    "A library is a collection of modules, but the terms are often used interchangeably, especially since many libraries only consist of a single module, so don’t worry if you mix them. A program must import a library module before using it.\n",
    "Use import to load a library module into a program’s memory.\n",
    "Then refer to things from the module as *module_name.thing_name*.\n",
    "\n",
    "Python uses '.' to mean “part of”."
   ]
  },
  {
   "cell_type": "markdown",
   "id": "471c3c07-1c4a-4249-b648-d1a0c8802fd2",
   "metadata": {},
   "source": [
    "### Programming with NumPy "
   ]
  },
  {
   "cell_type": "markdown",
   "id": "6f8d1a20-6b7d-48b4-b674-c10a80df8262",
   "metadata": {},
   "source": [
    "NumPy is the fundamental package (library, module) for scientific computing with Python. It contains among other things:\n",
    "\n",
    "- a powerful N-dimensional array object\n",
    "- sophisticated functions\n",
    "- useful linear algebra, Fourier transform, and random number capabilities"
   ]
  },
  {
   "cell_type": "code",
   "execution_count": 50,
   "id": "74e0f94c",
   "metadata": {},
   "outputs": [
    {
     "data": {
      "text/plain": [
       "{'inv_process_string': [' deeplearning ', ' statistics '],\n",
       " 'inv_double_string': ['deeplearning  deeplearningdeeplearning  deeplearning',\n",
       "  'sTatistics sTatisticssTatistics sTatistics']}"
      ]
     },
     "execution_count": 50,
     "metadata": {},
     "output_type": "execute_result"
    }
   ],
   "source": [
    "def inv_process_string(s):\n",
    "    \"\"\"\n",
    "    Inverse function of process_string. It adds a space at the beginning and end of the string\n",
    "    and converts the first letter to lowercase.\n",
    "    \"\"\"\n",
    "    # Add spaces and convert first letter to lowercase\n",
    "    return \" \" + s[0].lower() + s[1:] + \" \"\n",
    "\n",
    "def inv_double_string(s):\n",
    "    \"\"\"\n",
    "    Inverse function of double_string. Assuming double_string repeats the string,\n",
    "    this function cuts the string in half.\n",
    "    \"\"\"\n",
    "    # Halve the string\n",
    "    tt = s.strip()\n",
    "    return tt[0:]+tt[0:]\n",
    "\n",
    "# Test cases\n",
    "test_strings = [\" deeplearning \", \" sTatistics\"]\n",
    "\n",
    "# Testing inv_process_string and inv_double_string\n",
    "test_results = {\"inv_process_string\": [], \"inv_double_string\": []}\n",
    "for string in test_strings:\n",
    "    test_results[\"inv_process_string\"].append(inv_process_string(string.strip().capitalize()))\n",
    "    test_results[\"inv_double_string\"].append(inv_double_string(string*2))\n",
    "\n",
    "test_results"
   ]
  },
  {
   "cell_type": "code",
   "execution_count": 51,
   "id": "df681019-5e9e-4915-a12a-fc2fbc6cf14a",
   "metadata": {},
   "outputs": [
    {
     "name": "stdout",
     "output_type": "stream",
     "text": [
      "[[5 4]\n",
      " [1 2]]\n",
      "[5 4]\n",
      "[4 2]\n",
      "5 2\n",
      "[5, 2]\n"
     ]
    }
   ],
   "source": [
    "import numpy as np  #import numpy library under an alias np\n",
    "\n",
    "ua = np.array([[5,4],[1,2]])\n",
    "\n",
    "print(ua)\n",
    "print(ua[0]) #first row\n",
    "\n",
    "print(ua[:,1]) #last column\n",
    " \n",
    "print(ua[0][0],ua[1][1]) #diagonal\n",
    "\n",
    "print([ua[0][0],ua[1][1]]) #diagonal as a vector"
   ]
  },
  {
   "cell_type": "code",
   "execution_count": 52,
   "id": "791af1bc-57ec-4989-9792-5699fa8a3c76",
   "metadata": {},
   "outputs": [
    {
     "name": "stdout",
     "output_type": "stream",
     "text": [
      "pi is 3.141592653589793\n",
      "cos(pi) is -1.0\n",
      "Euler constant is 2.718281828459045\n",
      "log(e) is 1.0\n"
     ]
    }
   ],
   "source": [
    "print('pi is', np.pi)\n",
    "print('cos(pi) is', np.cos(np.pi))\n",
    "print('Euler constant is', np.e)\n",
    "print('log(e) is', np.log(np.e))"
   ]
  },
  {
   "cell_type": "markdown",
   "id": "819b0d05-f883-4eaa-8dad-097a89ad8911",
   "metadata": {},
   "source": [
    "Import specific items from a library module to shorten programs.\n",
    "Use *from ... import ...* to load only specific items from a library module.\n",
    "Then refer to them directly without library name as prefix.\n"
   ]
  },
  {
   "cell_type": "code",
   "execution_count": 53,
   "id": "2f66055f-166f-45d2-88cb-7a00620e6cb2",
   "metadata": {},
   "outputs": [
    {
     "name": "stdout",
     "output_type": "stream",
     "text": [
      "cos(pi) is -1.0\n",
      "Euler constant is 2.7183\n",
      "log(e) is 1.0000\n"
     ]
    }
   ],
   "source": [
    "from numpy import cos, pi\n",
    "print('cos(pi) is', cos(pi))\n",
    "\n",
    "from numpy import log, e\n",
    "print('Euler constant is {:.4f}'.format(e))\n",
    "print('log(e) is {:.4f}'.format(log(e)))"
   ]
  },
  {
   "cell_type": "markdown",
   "id": "36048a9f-8a57-4475-ab87-767990190b6c",
   "metadata": {},
   "source": [
    "Some more complicate operations using mathematical functions:"
   ]
  },
  {
   "cell_type": "code",
   "execution_count": 54,
   "id": "4bc276a5-9d6f-4923-a50c-4cb070dac4d5",
   "metadata": {},
   "outputs": [
    {
     "name": "stdout",
     "output_type": "stream",
     "text": [
      "[2.71828183 1.        ]\n"
     ]
    }
   ],
   "source": [
    "c1, c2, w1, w2 = 1, 2, -2, 0.5\n",
    "h = np.array([np.exp(-c1*w1-c2*w2),-c1*w1-c2*w2])\n",
    "print(h)"
   ]
  },
  {
   "cell_type": "markdown",
   "id": "0381ce09-2cfb-460e-93c8-e0c17e500a68",
   "metadata": {},
   "source": [
    "### Programming with Scipy"
   ]
  },
  {
   "cell_type": "markdown",
   "id": "6d58c57e-3765-4597-8cab-b6604f41302b",
   "metadata": {},
   "source": [
    "SciPy is a collection of mathematical algorithms and convenience functions built on NumPy. It adds significant power to Python by providing the user with high-level commands and classes for manipulating and visualizing data. It is organized into subpackages covering different scientific computing domains. Some especially relevant subpackages for our labs are:\n",
    "* optimize\n",
    "* stats"
   ]
  },
  {
   "cell_type": "markdown",
   "id": "d275a936-77b1-4b0a-ad06-8e26ce9df76c",
   "metadata": {},
   "source": [
    "SciPy optimize provides functions for minimizing (or maximizing) objective functions, possibly subject to constraints. It includes solvers for nonlinear problems (with support for both local and global optimization algorithms), linear programing, constrained and nonlinear least-squares, root finding, and curve fitting. For more details: [scipy.optimize](https://docs.scipy.org/doc/scipy/reference/optimize.html#module-scipy.optimize). The `minimize` function provides a common interface to unconstrained and constrained minimization algorithms for multivariate scalar functions in `scipy.optimize`. To demonstrate the minimization function, let us consider the Himmelblau's function:\n",
    "$$\n",
    "    f(x, y)=\\left(x^2+y-11\\right)^2+\\left(x+y^2-7\\right)^2\n",
    "$$"
   ]
  },
  {
   "cell_type": "code",
   "execution_count": 55,
   "id": "18a00ce9-9e84-481e-a1d4-a256465f4518",
   "metadata": {},
   "outputs": [],
   "source": [
    "def himmelblau(x):\n",
    "    return (x[0]**2 + x[1] - 11)**2 + (x[0] + x[1]**2 - 7)**2"
   ]
  },
  {
   "cell_type": "code",
   "execution_count": 56,
   "id": "1495f6a6-ccb5-4a33-8ed6-c3892042f53d",
   "metadata": {},
   "outputs": [],
   "source": [
    "from scipy.optimize import minimize"
   ]
  },
  {
   "cell_type": "code",
   "execution_count": 57,
   "id": "64528356-3665-4c2e-a3e7-3d263516504e",
   "metadata": {},
   "outputs": [
    {
     "name": "stdout",
     "output_type": "stream",
     "text": [
      "Optimization terminated successfully.\n",
      "         Current function value: 0.000000\n",
      "         Iterations: 72\n",
      "         Function evaluations: 141\n"
     ]
    }
   ],
   "source": [
    "x0 = np.array([1, 3])\n",
    "res = minimize(himmelblau, x0, method='nelder-mead',\n",
    "               options={'xatol': 1e-8, 'disp': True})"
   ]
  },
  {
   "cell_type": "code",
   "execution_count": 58,
   "id": "8af6361d-d52e-486a-8f1a-d4495d850db6",
   "metadata": {},
   "outputs": [
    {
     "name": "stdout",
     "output_type": "stream",
     "text": [
      "[3. 2.]\n"
     ]
    }
   ],
   "source": [
    "print(res.x)"
   ]
  },
  {
   "cell_type": "markdown",
   "id": "895e431d-7062-4aee-aa29-be9721769c21",
   "metadata": {},
   "source": [
    "In `scipy.stats` over 80 continuous random variables and 10 discrete random variables have been implemented. For the illustrating purposes, let us consider the normal distribution."
   ]
  },
  {
   "cell_type": "code",
   "execution_count": 59,
   "id": "f746145b-d31c-4cf8-bacd-ff789eb08483",
   "metadata": {},
   "outputs": [],
   "source": [
    "from scipy import stats\n",
    "from scipy.stats import norm"
   ]
  },
  {
   "cell_type": "code",
   "execution_count": 60,
   "id": "d65891fc-3594-4cf7-9afd-34cd53c3f9b1",
   "metadata": {},
   "outputs": [
    {
     "name": "stdout",
     "output_type": "stream",
     "text": [
      "0.5\n",
      "[0.15865525 0.5        0.84134475]\n",
      "1.0 2.0 4.0\n"
     ]
    },
    {
     "data": {
      "text/plain": [
       "array([-1.00000002,  0.        ,  1.00000002])"
      ]
     },
     "execution_count": 60,
     "metadata": {},
     "output_type": "execute_result"
    }
   ],
   "source": [
    "# The Cumulative Distribution Function\n",
    "print(norm.cdf(0))\n",
    "print(norm.cdf(np.array([-1., 0, 1])))\n",
    "\n",
    "# Some other generally useful methods\n",
    "print(norm.mean(loc=1, scale=2), norm.std(loc=1, scale=2), norm.var(loc=1, scale=2))\n",
    "\n",
    "# The inverse of CDF\n",
    "norm.ppf(np.array([0.15865525, 0.5, 0.84134475]))"
   ]
  },
  {
   "cell_type": "markdown",
   "id": "f77b8d55-132e-4844-b02e-6e6745e11c54",
   "metadata": {},
   "source": [
    "To generate a sequence of random variates, use the `size` keyword argument:"
   ]
  },
  {
   "cell_type": "code",
   "execution_count": 61,
   "id": "965fed22-a039-4019-acb2-1bf4a576ad61",
   "metadata": {},
   "outputs": [
    {
     "data": {
      "text/plain": [
       "array([-0.56836345, -1.21777141, -0.19602619])"
      ]
     },
     "execution_count": 61,
     "metadata": {},
     "output_type": "execute_result"
    }
   ],
   "source": [
    "norm.rvs(size=3)"
   ]
  },
  {
   "cell_type": "code",
   "execution_count": 62,
   "id": "95a0eb9f-8b8c-4349-b8ad-448d59fcbe6d",
   "metadata": {},
   "outputs": [
    {
     "data": {
      "text/plain": [
       "4.795292340515287"
      ]
     },
     "execution_count": 62,
     "metadata": {},
     "output_type": "execute_result"
    }
   ],
   "source": [
    "# To make the random number generation replicable.\n",
    "np.random.seed(seed=12345)\n",
    "norm.rvs(5)"
   ]
  },
  {
   "cell_type": "code",
   "execution_count": 63,
   "id": "e8f0471d-ac5d-4e86-a92c-1baae23800a5",
   "metadata": {},
   "outputs": [
    {
     "data": {
      "text/plain": [
       "4.795292340515287"
      ]
     },
     "execution_count": 63,
     "metadata": {},
     "output_type": "execute_result"
    }
   ],
   "source": [
    "np.random.seed(seed=12345)\n",
    "norm.rvs(loc=5)"
   ]
  },
  {
   "cell_type": "markdown",
   "id": "696df6b3-e1ae-4242-afb5-0e8ad8e85eb0",
   "metadata": {},
   "source": [
    "### Task 2"
   ]
  },
  {
   "cell_type": "markdown",
   "id": "e061d556-ea8c-447d-be48-553fa71e80c8",
   "metadata": {},
   "source": [
    "The fourth Schaffer function  has multiple global munimum points (see [here](https://en.wikipedia.org/wiki/Test_functions_for_optimization#:~:text=Schaffer%20function%20N.%204)). Implement it and name it as `schaffer4`. \n",
    "$$\n",
    "f(x, y)=0.5+\\frac{\\cos ^2\\left[\\sin \\left(\\left|x^2-y^2\\right|\\right)\\right]-0.5}{\\left[1+0.001\\left(x^2+y^2\\right)\\right]^2}\n",
    "$$\n",
    "Find the minimum of this function with 100 different initial $x_0$'s sampling from the normal distribution with mean $\\boldsymbol \\mu = (0, 0)^\\top$ and covariance matrix $\\boldsymbol \\Sigma = \\begin{pmatrix} 1 & 0 \\\\ 0 & 1  \\end{pmatrix}$ and round the minimums to 4 decimal places. Do you find all the global minimum points? Comment on your findings."
   ]
  },
  {
   "cell_type": "code",
   "execution_count": 64,
   "id": "4999ecf4",
   "metadata": {},
   "outputs": [
    {
     "data": {
      "text/plain": [
       "(array([[-4.85400e+00, -0.00000e+00],\n",
       "        [-2.17070e+00, -1.00000e-04],\n",
       "        [-2.17070e+00,  0.00000e+00],\n",
       "        [-1.25310e+00, -5.00000e-04],\n",
       "        [-1.25310e+00, -4.00000e-04],\n",
       "        [-1.25310e+00, -3.00000e-04],\n",
       "        [-1.25310e+00, -2.00000e-04],\n",
       "        [-1.25310e+00,  0.00000e+00],\n",
       "        [-1.25310e+00,  1.00000e-04],\n",
       "        [-1.25310e+00,  2.00000e-04],\n",
       "        [-1.25310e+00,  3.00000e-04],\n",
       "        [-1.25310e+00,  5.00000e-04],\n",
       "        [-1.25310e+00,  6.00000e-04],\n",
       "        [-1.25310e+00,  3.20000e-03],\n",
       "        [-4.20000e-03,  1.25310e+00],\n",
       "        [-4.00000e-04, -1.25310e+00],\n",
       "        [-2.00000e-04, -1.25310e+00],\n",
       "        [-2.00000e-04,  1.25310e+00],\n",
       "        [-1.00000e-04,  1.25310e+00],\n",
       "        [ 0.00000e+00, -1.42349e+01],\n",
       "        [-0.00000e+00, -4.85400e+00],\n",
       "        [ 0.00000e+00, -4.51880e+00],\n",
       "        [-0.00000e+00, -2.80240e+00],\n",
       "        [ 0.00000e+00, -2.17070e+00],\n",
       "        [-0.00000e+00, -1.25310e+00],\n",
       "        [ 0.00000e+00,  1.25310e+00],\n",
       "        [ 0.00000e+00,  2.17070e+00],\n",
       "        [-0.00000e+00,  2.80240e+00],\n",
       "        [ 0.00000e+00,  3.31590e+00],\n",
       "        [ 0.00000e+00,  4.15670e+00],\n",
       "        [-0.00000e+00,  4.51880e+00],\n",
       "        [ 0.00000e+00,  1.18237e+01],\n",
       "        [ 1.00000e-04, -1.25310e+00],\n",
       "        [ 1.00000e-04,  1.25310e+00],\n",
       "        [ 2.00000e-04, -1.25310e+00],\n",
       "        [ 2.00000e-04,  1.25310e+00],\n",
       "        [ 1.20000e-03, -1.25310e+00],\n",
       "        [ 1.50000e-03,  1.25310e+00],\n",
       "        [ 1.25310e+00, -3.00000e-04],\n",
       "        [ 1.25310e+00, -2.00000e-04],\n",
       "        [ 1.25310e+00, -1.00000e-04],\n",
       "        [ 1.25310e+00,  0.00000e+00],\n",
       "        [ 1.25310e+00,  1.00000e-04],\n",
       "        [ 1.25310e+00,  3.00000e-04],\n",
       "        [ 2.17070e+00, -2.00000e-04],\n",
       "        [ 2.17070e+00,  0.00000e+00],\n",
       "        [ 2.80240e+00, -0.00000e+00],\n",
       "        [ 4.15670e+00,  0.00000e+00]]),\n",
       " 48)"
      ]
     },
     "execution_count": 64,
     "metadata": {},
     "output_type": "execute_result"
    }
   ],
   "source": [
    "from scipy.optimize import minimize\n",
    "\n",
    "# Define the fourth Schaffer function\n",
    "def schaffer4(x):\n",
    "    x1, x2 = x\n",
    "    term1 = np.cos(np.sin(abs(x1**2 - x2**2)))**2 - 0.5\n",
    "    term2 = (1 + 0.001*(x1**2 + x2**2))**2\n",
    "    return 0.5 + term1 / term2\n",
    "\n",
    "# Function to find the minimum using scipy's minimize function from a given starting point\n",
    "def find_minimum(starting_point):\n",
    "    return minimize(schaffer4, starting_point, method='BFGS').x\n",
    "\n",
    "# Generate 100 different initial points from the normal distribution\n",
    "mean = [0, 0]\n",
    "covariance_matrix = [[1, 0], [0, 1]]\n",
    "initial_points = np.random.multivariate_normal(mean, covariance_matrix, 100)\n",
    "\n",
    "# Find minima starting from the initial points\n",
    "minima = np.array([find_minimum(point) for point in initial_points])\n",
    "\n",
    "# Round the minima to 4 decimal places\n",
    "rounded_minima = np.round(minima, 4)\n",
    "\n",
    "# Since there might be multiple global minima, we need to identify unique points\n",
    "# A tolerance is set to treat points as the same if they are very close to each other\n",
    "tolerance = 1e-4\n",
    "unique_minima = np.unique(rounded_minima, axis=0)\n",
    "\n",
    "unique_minima, len(unique_minima)  # Return the unique minima and their count"
   ]
  },
  {
   "cell_type": "markdown",
   "id": "750ed81f-4eed-4192-800f-f8ceb08717b1",
   "metadata": {},
   "source": [
    "##  Classification of cloth images using the maximum likelihood method"
   ]
  },
  {
   "cell_type": "markdown",
   "id": "f117c3c9-5e66-41bd-b086-f0590f7bc556",
   "metadata": {},
   "source": [
    "In this section, we aim at classifying images of clothing, like sneakers and shirts using maximum likelihood (ML) method. If you do not have any idea about what it is, please refer to textbooks on bachelor level of statistics. Here, we use dataset included in tf.keras, a high-level API to build and train models in TensorFlow."
   ]
  },
  {
   "cell_type": "code",
   "execution_count": 65,
   "id": "ba1ec782-ad12-451c-adcc-d9c7e605a6d5",
   "metadata": {},
   "outputs": [
    {
     "name": "stdout",
     "output_type": "stream",
     "text": [
      "2.15.0\n"
     ]
    }
   ],
   "source": [
    "import tensorflow as tf\n",
    "from tensorflow import keras\n",
    "import matplotlib.pyplot as plt\n",
    "\n",
    "print(tf.__version__)"
   ]
  },
  {
   "cell_type": "markdown",
   "id": "0d4788cb-b7b1-42b8-9908-36783d140b67",
   "metadata": {},
   "source": [
    "### The Fashion MNIST dataset"
   ]
  },
  {
   "cell_type": "markdown",
   "id": "22e0ffa9-66b9-4307-9977-3271b4ff0461",
   "metadata": {},
   "source": [
    "We use the [Fashion MNIST](https://github.com/zalandoresearch/fashion-mnist) dataset which contains 70,000 grayscale images in 10 categories. The images show individual articles of clothing at low resolution (28 by 28 pixels), as seen here:\n",
    "\n",
    "<table>\n",
    "  <tr><td>\n",
    "    <img src=\"https://tensorflow.org/images/fashion-mnist-sprite.png\"\n",
    "         alt=\"Fashion MNIST sprite\"  width=\"600\">\n",
    "  </td></tr>\n",
    "  <tr><td align=\"center\">\n",
    "    <b>Figure 1.</b> <a href=\"https://github.com/zalandoresearch/fashion-mnist\">Fashion-MNIST samples</a> (by Zalando, MIT License).<br/>&nbsp;\n",
    "  </td></tr>\n",
    "</table>\n",
    "\n",
    "Fashion MNIST is intended as a drop-in replacement for the classic [MNIST](http://yann.lecun.com/exdb/mnist/) dataset—often used as the \"Hello, World\" of machine learning programs for computer vision. The MNIST dataset contains images of handwritten digits (0, 1, 2, etc.) in a format identical to that of the articles of clothing you'll use here.\n",
    "\n",
    "This guide uses Fashion MNIST for variety, and because it's a slightly more challenging problem than regular MNIST. Both datasets are relatively small and are used to verify that an algorithm works as expected. They're good starting points to test and debug code.\n",
    "\n",
    "Here, 60,000 images are used to train the network and 10,000 images to evaluate how accurately the network learned to classify images. You can access the Fashion MNIST directly from TensorFlow. Import and load the Fashion MNIST data directly from TensorFlow:"
   ]
  },
  {
   "cell_type": "code",
   "execution_count": 66,
   "id": "44594d86-04f4-47c6-a15a-42e1b1a336be",
   "metadata": {},
   "outputs": [],
   "source": [
    "fashion_mnist = keras.datasets.fashion_mnist\n",
    "\n",
    "(train_images, train_labels), (test_images, test_labels) = fashion_mnist.load_data()"
   ]
  },
  {
   "cell_type": "markdown",
   "id": "76f65ee3-291a-41ac-802f-6acd07f0f11b",
   "metadata": {},
   "source": [
    "Loading the dataset returns four NumPy arrays:\n",
    "\n",
    "* The `train_images` and `train_labels` arrays are the *training set*—the data the model uses to learn.\n",
    "* The model is tested against the *test set*, the `test_images`, and `test_labels` arrays.\n",
    "\n",
    "The images are 28x28 NumPy arrays, with pixel values ranging from 0 to 255."
   ]
  },
  {
   "cell_type": "code",
   "execution_count": 67,
   "id": "ecf560da-8c07-4573-8d0a-86ddd3ae4b60",
   "metadata": {},
   "outputs": [
    {
     "data": {
      "text/plain": [
       "array([[  0,   0,   0,   0,   0,   1,   0,   0,   0,   0,  41, 188, 103,\n",
       "         54,  48,  43,  87, 168, 133,  16,   0,   0,   0,   0,   0,   0,\n",
       "          0,   0],\n",
       "       [  0,   0,   0,   1,   0,   0,   0,  49, 136, 219, 216, 228, 236,\n",
       "        255, 255, 255, 255, 217, 215, 254, 231, 160,  45,   0,   0,   0,\n",
       "          0,   0],\n",
       "       [  0,   0,   0,   0,   0,  14, 176, 222, 224, 212, 203, 198, 196,\n",
       "        200, 215, 204, 202, 201, 201, 201, 209, 218, 224, 164,   0,   0,\n",
       "          0,   0],\n",
       "       [  0,   0,   0,   0,   0, 188, 219, 200, 198, 202, 198, 199, 199,\n",
       "        201, 196, 198, 198, 200, 200, 200, 200, 201, 200, 225,  41,   0,\n",
       "          0,   0],\n",
       "       [  0,   0,   0,   0,  51, 219, 199, 203, 203, 212, 238, 248, 250,\n",
       "        245, 249, 246, 247, 252, 248, 235, 207, 203, 203, 222, 140,   0,\n",
       "          0,   0],\n",
       "       [  0,   0,   0,   0, 116, 226, 206, 204, 207, 204, 101,  75,  47,\n",
       "         73,  48,  50,  45,  51,  63, 113, 222, 202, 206, 220, 224,   0,\n",
       "          0,   0],\n",
       "       [  0,   0,   0,   0, 200, 222, 209, 203, 215, 200,   0,  70,  98,\n",
       "          0, 103,  59,  68,  71,  49,   0, 219, 206, 214, 210, 250,  38,\n",
       "          0,   0],\n",
       "       [  0,   0,   0,   0, 247, 218, 212, 210, 215, 214,   0, 254, 243,\n",
       "        139, 255, 174, 251, 255, 205,   0, 215, 217, 214, 208, 220,  95,\n",
       "          0,   0],\n",
       "       [  0,   0,   0,  45, 226, 214, 214, 215, 224, 205,   0,  42,  35,\n",
       "         60,  16,  17,  12,  13,  70,   0, 189, 216, 212, 206, 212, 156,\n",
       "          0,   0],\n",
       "       [  0,   0,   0, 164, 235, 214, 211, 220, 216, 201,  52,  71,  89,\n",
       "         94,  83,  78,  70,  76,  92,  87, 206, 207, 222, 213, 219, 208,\n",
       "          0,   0],\n",
       "       [  0,   0,   0, 106, 187, 223, 237, 248, 211, 198, 252, 250, 248,\n",
       "        245, 248, 252, 253, 250, 252, 239, 201, 212, 225, 215, 193, 113,\n",
       "          0,   0],\n",
       "       [  0,   0,   0,   0,   0,  17,  54, 159, 222, 193, 208, 192, 197,\n",
       "        200, 200, 200, 200, 201, 203, 195, 210, 165,   0,   0,   0,   0,\n",
       "          0,   0],\n",
       "       [  0,   0,   0,   0,   0,   0,   0,  47, 225, 192, 214, 203, 206,\n",
       "        204, 204, 205, 206, 204, 212, 197, 218, 107,   0,   0,   0,   0,\n",
       "          0,   0],\n",
       "       [  0,   0,   0,   0,   1,   6,   0,  46, 212, 195, 212, 202, 206,\n",
       "        205, 204, 205, 206, 204, 212, 200, 218,  91,   0,   3,   1,   0,\n",
       "          0,   0],\n",
       "       [  0,   0,   0,   0,   0,   1,   0,  11, 197, 199, 205, 202, 205,\n",
       "        206, 204, 205, 207, 204, 205, 205, 218,  77,   0,   5,   0,   0,\n",
       "          0,   0],\n",
       "       [  0,   0,   0,   0,   0,   3,   0,   2, 191, 198, 201, 205, 206,\n",
       "        205, 205, 206, 209, 206, 199, 209, 219,  74,   0,   5,   0,   0,\n",
       "          0,   0],\n",
       "       [  0,   0,   0,   0,   0,   2,   0,   0, 188, 197, 200, 207, 207,\n",
       "        204, 207, 207, 210, 208, 198, 207, 221,  72,   0,   4,   0,   0,\n",
       "          0,   0],\n",
       "       [  0,   0,   0,   0,   0,   2,   0,   0, 215, 198, 203, 206, 208,\n",
       "        205, 207, 207, 210, 208, 200, 202, 222,  75,   0,   4,   0,   0,\n",
       "          0,   0],\n",
       "       [  0,   0,   0,   0,   0,   1,   0,   0, 212, 198, 209, 206, 209,\n",
       "        206, 208, 207, 211, 206, 205, 198, 221,  80,   0,   3,   0,   0,\n",
       "          0,   0],\n",
       "       [  0,   0,   0,   0,   0,   1,   0,   0, 204, 201, 205, 208, 207,\n",
       "        205, 211, 205, 210, 210, 209, 195, 221,  96,   0,   3,   0,   0,\n",
       "          0,   0],\n",
       "       [  0,   0,   0,   0,   0,   1,   0,   0, 202, 201, 205, 209, 207,\n",
       "        205, 213, 206, 210, 209, 210, 194, 217, 105,   0,   2,   0,   0,\n",
       "          0,   0],\n",
       "       [  0,   0,   0,   0,   0,   1,   0,   0, 204, 204, 205, 208, 207,\n",
       "        205, 215, 207, 210, 208, 211, 193, 213, 115,   0,   2,   0,   0,\n",
       "          0,   0],\n",
       "       [  0,   0,   0,   0,   0,   0,   0,   0, 204, 207, 207, 208, 206,\n",
       "        206, 215, 210, 210, 207, 212, 195, 210, 118,   0,   2,   0,   0,\n",
       "          0,   0],\n",
       "       [  0,   0,   0,   0,   0,   1,   0,   0, 198, 208, 208, 208, 204,\n",
       "        207, 212, 212, 210, 207, 211, 196, 207, 121,   0,   1,   0,   0,\n",
       "          0,   0],\n",
       "       [  0,   0,   0,   0,   0,   1,   0,   0, 198, 210, 207, 208, 206,\n",
       "        209, 213, 212, 211, 207, 210, 197, 207, 124,   0,   1,   0,   0,\n",
       "          0,   0],\n",
       "       [  0,   0,   0,   0,   0,   0,   0,   0, 172, 210, 203, 201, 199,\n",
       "        204, 207, 205, 204, 201, 205, 197, 206, 127,   0,   0,   0,   0,\n",
       "          0,   0],\n",
       "       [  0,   0,   0,   0,   0,   0,   0,   0, 188, 221, 214, 234, 236,\n",
       "        238, 244, 244, 244, 240, 243, 214, 224, 162,   0,   2,   0,   0,\n",
       "          0,   0],\n",
       "       [  0,   0,   0,   0,   0,   1,   0,   0, 139, 146, 130, 135, 135,\n",
       "        137, 125, 124, 125, 121, 119, 114, 130,  76,   0,   0,   0,   0,\n",
       "          0,   0]], dtype=uint8)"
      ]
     },
     "execution_count": 67,
     "metadata": {},
     "output_type": "execute_result"
    }
   ],
   "source": [
    "train_images[1]"
   ]
  },
  {
   "cell_type": "markdown",
   "id": "7d59b452-e727-4950-9e41-33f27a4ffc92",
   "metadata": {},
   "source": [
    "### Explore the data\n",
    "\n",
    "Let's explore the format of the dataset before training the model. The following shows there are 60,000 images in the training set, with each image represented as 28 x 28 pixels:"
   ]
  },
  {
   "cell_type": "code",
   "execution_count": 68,
   "id": "7db2667d-93a8-4e3d-a259-9075fc48bab4",
   "metadata": {},
   "outputs": [
    {
     "data": {
      "text/plain": [
       "60000"
      ]
     },
     "execution_count": 68,
     "metadata": {},
     "output_type": "execute_result"
    }
   ],
   "source": [
    "len(train_images)"
   ]
  },
  {
   "cell_type": "code",
   "execution_count": 69,
   "id": "3cc809bb-db20-4b54-87ff-eddd0bbebd6f",
   "metadata": {},
   "outputs": [
    {
     "data": {
      "text/plain": [
       "array([[  0,   0,   0,   0,   0,   1,   0,   0,   0,   0,  41, 188, 103,\n",
       "         54,  48,  43,  87, 168, 133,  16,   0,   0,   0,   0,   0,   0,\n",
       "          0,   0],\n",
       "       [  0,   0,   0,   1,   0,   0,   0,  49, 136, 219, 216, 228, 236,\n",
       "        255, 255, 255, 255, 217, 215, 254, 231, 160,  45,   0,   0,   0,\n",
       "          0,   0],\n",
       "       [  0,   0,   0,   0,   0,  14, 176, 222, 224, 212, 203, 198, 196,\n",
       "        200, 215, 204, 202, 201, 201, 201, 209, 218, 224, 164,   0,   0,\n",
       "          0,   0],\n",
       "       [  0,   0,   0,   0,   0, 188, 219, 200, 198, 202, 198, 199, 199,\n",
       "        201, 196, 198, 198, 200, 200, 200, 200, 201, 200, 225,  41,   0,\n",
       "          0,   0],\n",
       "       [  0,   0,   0,   0,  51, 219, 199, 203, 203, 212, 238, 248, 250,\n",
       "        245, 249, 246, 247, 252, 248, 235, 207, 203, 203, 222, 140,   0,\n",
       "          0,   0],\n",
       "       [  0,   0,   0,   0, 116, 226, 206, 204, 207, 204, 101,  75,  47,\n",
       "         73,  48,  50,  45,  51,  63, 113, 222, 202, 206, 220, 224,   0,\n",
       "          0,   0],\n",
       "       [  0,   0,   0,   0, 200, 222, 209, 203, 215, 200,   0,  70,  98,\n",
       "          0, 103,  59,  68,  71,  49,   0, 219, 206, 214, 210, 250,  38,\n",
       "          0,   0],\n",
       "       [  0,   0,   0,   0, 247, 218, 212, 210, 215, 214,   0, 254, 243,\n",
       "        139, 255, 174, 251, 255, 205,   0, 215, 217, 214, 208, 220,  95,\n",
       "          0,   0],\n",
       "       [  0,   0,   0,  45, 226, 214, 214, 215, 224, 205,   0,  42,  35,\n",
       "         60,  16,  17,  12,  13,  70,   0, 189, 216, 212, 206, 212, 156,\n",
       "          0,   0],\n",
       "       [  0,   0,   0, 164, 235, 214, 211, 220, 216, 201,  52,  71,  89,\n",
       "         94,  83,  78,  70,  76,  92,  87, 206, 207, 222, 213, 219, 208,\n",
       "          0,   0],\n",
       "       [  0,   0,   0, 106, 187, 223, 237, 248, 211, 198, 252, 250, 248,\n",
       "        245, 248, 252, 253, 250, 252, 239, 201, 212, 225, 215, 193, 113,\n",
       "          0,   0],\n",
       "       [  0,   0,   0,   0,   0,  17,  54, 159, 222, 193, 208, 192, 197,\n",
       "        200, 200, 200, 200, 201, 203, 195, 210, 165,   0,   0,   0,   0,\n",
       "          0,   0],\n",
       "       [  0,   0,   0,   0,   0,   0,   0,  47, 225, 192, 214, 203, 206,\n",
       "        204, 204, 205, 206, 204, 212, 197, 218, 107,   0,   0,   0,   0,\n",
       "          0,   0],\n",
       "       [  0,   0,   0,   0,   1,   6,   0,  46, 212, 195, 212, 202, 206,\n",
       "        205, 204, 205, 206, 204, 212, 200, 218,  91,   0,   3,   1,   0,\n",
       "          0,   0],\n",
       "       [  0,   0,   0,   0,   0,   1,   0,  11, 197, 199, 205, 202, 205,\n",
       "        206, 204, 205, 207, 204, 205, 205, 218,  77,   0,   5,   0,   0,\n",
       "          0,   0],\n",
       "       [  0,   0,   0,   0,   0,   3,   0,   2, 191, 198, 201, 205, 206,\n",
       "        205, 205, 206, 209, 206, 199, 209, 219,  74,   0,   5,   0,   0,\n",
       "          0,   0],\n",
       "       [  0,   0,   0,   0,   0,   2,   0,   0, 188, 197, 200, 207, 207,\n",
       "        204, 207, 207, 210, 208, 198, 207, 221,  72,   0,   4,   0,   0,\n",
       "          0,   0],\n",
       "       [  0,   0,   0,   0,   0,   2,   0,   0, 215, 198, 203, 206, 208,\n",
       "        205, 207, 207, 210, 208, 200, 202, 222,  75,   0,   4,   0,   0,\n",
       "          0,   0],\n",
       "       [  0,   0,   0,   0,   0,   1,   0,   0, 212, 198, 209, 206, 209,\n",
       "        206, 208, 207, 211, 206, 205, 198, 221,  80,   0,   3,   0,   0,\n",
       "          0,   0],\n",
       "       [  0,   0,   0,   0,   0,   1,   0,   0, 204, 201, 205, 208, 207,\n",
       "        205, 211, 205, 210, 210, 209, 195, 221,  96,   0,   3,   0,   0,\n",
       "          0,   0],\n",
       "       [  0,   0,   0,   0,   0,   1,   0,   0, 202, 201, 205, 209, 207,\n",
       "        205, 213, 206, 210, 209, 210, 194, 217, 105,   0,   2,   0,   0,\n",
       "          0,   0],\n",
       "       [  0,   0,   0,   0,   0,   1,   0,   0, 204, 204, 205, 208, 207,\n",
       "        205, 215, 207, 210, 208, 211, 193, 213, 115,   0,   2,   0,   0,\n",
       "          0,   0],\n",
       "       [  0,   0,   0,   0,   0,   0,   0,   0, 204, 207, 207, 208, 206,\n",
       "        206, 215, 210, 210, 207, 212, 195, 210, 118,   0,   2,   0,   0,\n",
       "          0,   0],\n",
       "       [  0,   0,   0,   0,   0,   1,   0,   0, 198, 208, 208, 208, 204,\n",
       "        207, 212, 212, 210, 207, 211, 196, 207, 121,   0,   1,   0,   0,\n",
       "          0,   0],\n",
       "       [  0,   0,   0,   0,   0,   1,   0,   0, 198, 210, 207, 208, 206,\n",
       "        209, 213, 212, 211, 207, 210, 197, 207, 124,   0,   1,   0,   0,\n",
       "          0,   0],\n",
       "       [  0,   0,   0,   0,   0,   0,   0,   0, 172, 210, 203, 201, 199,\n",
       "        204, 207, 205, 204, 201, 205, 197, 206, 127,   0,   0,   0,   0,\n",
       "          0,   0],\n",
       "       [  0,   0,   0,   0,   0,   0,   0,   0, 188, 221, 214, 234, 236,\n",
       "        238, 244, 244, 244, 240, 243, 214, 224, 162,   0,   2,   0,   0,\n",
       "          0,   0],\n",
       "       [  0,   0,   0,   0,   0,   1,   0,   0, 139, 146, 130, 135, 135,\n",
       "        137, 125, 124, 125, 121, 119, 114, 130,  76,   0,   0,   0,   0,\n",
       "          0,   0]], dtype=uint8)"
      ]
     },
     "execution_count": 69,
     "metadata": {},
     "output_type": "execute_result"
    }
   ],
   "source": [
    "train_images[1]"
   ]
  },
  {
   "cell_type": "code",
   "execution_count": 70,
   "id": "733d28be-611e-4b60-81b3-b0373c940f92",
   "metadata": {},
   "outputs": [
    {
     "data": {
      "image/png": "[encoded data removed]",
      "text/plain": [
       "<Figure size 640x480 with 2 Axes>"
      ]
     },
     "metadata": {},
     "output_type": "display_data"
    }
   ],
   "source": [
    "plt.figure()\n",
    "plt.imshow(train_images[1])\n",
    "plt.colorbar()\n",
    "plt.grid(False)\n",
    "plt.show()"
   ]
  },
  {
   "cell_type": "markdown",
   "id": "9b17c25b-ac4a-49d8-8e67-0b58bef12789",
   "metadata": {},
   "source": [
    "### Task 3:\n",
    "The data dimension in the clothin data example is 784. Reduce the data dimension by merging four neighboring pixels into one and averaging the corresponding values of pixels so that the dimension of the reduced data is 196. Name the new training images and test images `train_images_red2` and `test_images_red2` respectively. We will continue our analysis using these two new dataset with these specific names. Plot examples of the obtained images. Keep in mind the creating a new data set of the reduced resolution will take some time."
   ]
  },
  {
   "cell_type": "code",
   "execution_count": 71,
   "id": "dc8bd4dc",
   "metadata": {},
   "outputs": [
    {
     "data": {
      "image/png": "[encoded data removed]",
      "text/plain": [
       "<Figure size 1000x1000 with 5 Axes>"
      ]
     },
     "metadata": {},
     "output_type": "display_data"
    }
   ],
   "source": [
    "import matplotlib.pyplot as plt\n",
    "\n",
    "\n",
    "# Function to reduce the image resolution by merging four neighboring pixels into one\n",
    "def reduce_resolution(images):\n",
    "    # Reduce both height and width by a factor of 2\n",
    "    reduced_images = images.reshape(images.shape[0], images.shape[1] // 2, 2, images.shape[2] // 2, 2).mean(axis=(2, 4))\n",
    "    return reduced_images\n",
    "\n",
    "# Apply the reduction function to the training and test images\n",
    "train_images_red2 = reduce_resolution(train_images)\n",
    "test_images_red2 = reduce_resolution(test_images)\n",
    "\n",
    "# Plot examples of the obtained images\n",
    "fig, axes = plt.subplots(1, 5, figsize=(10, 10))\n",
    "for i, ax in enumerate(axes):\n",
    "    ax.imshow(train_images_red2[i], cmap='gray')\n",
    "    ax.set_title('Label: {}'.format(train_labels[i]))\n",
    "    ax.axis('off')\n",
    "\n",
    "plt.tight_layout()\n",
    "plt.show()"
   ]
  },
  {
   "cell_type": "markdown",
   "id": "9bdc1b73-5972-43a7-953f-501f80e815a0",
   "metadata": {
    "jp-MarkdownHeadingCollapsed": true
   },
   "source": [
    "### Further description of the data\n",
    "\n",
    "The *labels* are an array of integers, ranging from 0 to 9. These correspond to the *class* of clothing the image represents:\n",
    "\n",
    "<table>\n",
    "  <tr>\n",
    "    <th>Label</th>\n",
    "    <th>Class</th>\n",
    "  </tr>\n",
    "  <tr>\n",
    "    <td>0</td>\n",
    "    <td>T-shirt/top</td>\n",
    "  </tr>\n",
    "  <tr>\n",
    "    <td>1</td>\n",
    "    <td>Trouser</td>\n",
    "  </tr>\n",
    "    <tr>\n",
    "    <td>2</td>\n",
    "    <td>Pullover</td>\n",
    "  </tr>\n",
    "    <tr>\n",
    "    <td>3</td>\n",
    "    <td>Dress</td>\n",
    "  </tr>\n",
    "    <tr>\n",
    "    <td>4</td>\n",
    "    <td>Coat</td>\n",
    "  </tr>\n",
    "    <tr>\n",
    "    <td>5</td>\n",
    "    <td>Sandal</td>\n",
    "  </tr>\n",
    "    <tr>\n",
    "    <td>6</td>\n",
    "    <td>Shirt</td>\n",
    "  </tr>\n",
    "    <tr>\n",
    "    <td>7</td>\n",
    "    <td>Sneaker</td>\n",
    "  </tr>\n",
    "    <tr>\n",
    "    <td>8</td>\n",
    "    <td>Bag</td>\n",
    "  </tr>\n",
    "    <tr>\n",
    "    <td>9</td>\n",
    "    <td>Ankle boot</td>\n",
    "  </tr>\n",
    "</table>\n",
    "\n",
    "Each image is mapped to a single label. Since the *class names* are not included with the dataset, store them here to use later when plotting the images:"
   ]
  },
  {
   "cell_type": "code",
   "execution_count": 72,
   "id": "f4cd6323-9325-4c7f-aebb-7d5783bc5cb0",
   "metadata": {},
   "outputs": [],
   "source": [
    "class_names = ['T-shirt/top', 'Trouser', 'Pullover', 'Dress', 'Coat',\n",
    "               'Sandal', 'Shirt', 'Sneaker', 'Bag', 'Ankle boot']"
   ]
  },
  {
   "cell_type": "markdown",
   "id": "74518296-7cf8-44a3-890b-a53e50539586",
   "metadata": {},
   "source": [
    "There are 60,000 images in the training set and 10,000 images in the test set. Each image is represented as 14 x 14 pixels."
   ]
  },
  {
   "cell_type": "code",
   "execution_count": 73,
   "id": "1d75f2d8-ed07-4ec8-80aa-623dfe776362",
   "metadata": {},
   "outputs": [
    {
     "name": "stdout",
     "output_type": "stream",
     "text": [
      "(60000, 14, 14)\n",
      "(10000, 14, 14)\n"
     ]
    }
   ],
   "source": [
    "# If the previous task has been completed the following commented code will explore the outcomes. \n",
    "print(train_images_red2.shape)\n",
    "print(test_images_red2.shape)"
   ]
  },
  {
   "cell_type": "markdown",
   "id": "7b567c48-ab4b-4021-82b3-c28698385bc0",
   "metadata": {},
   "source": [
    "Likewise, there are 60,000 labels in the training set and 10,000 labels in the test set:"
   ]
  },
  {
   "cell_type": "code",
   "execution_count": 74,
   "id": "aa12e7be-0f1b-4da6-a15a-75a5f3d8557a",
   "metadata": {},
   "outputs": [
    {
     "name": "stdout",
     "output_type": "stream",
     "text": [
      "60000\n",
      "10000\n"
     ]
    }
   ],
   "source": [
    "print(len(train_labels))\n",
    "print(len(test_labels))"
   ]
  },
  {
   "cell_type": "markdown",
   "id": "93219ae1-6e36-4f6d-be1b-b7be06691bec",
   "metadata": {},
   "source": [
    "Each label is an integer between 0 and 9:"
   ]
  },
  {
   "cell_type": "code",
   "execution_count": 75,
   "id": "1bb96f0f-7cee-4bc5-9ec6-5309d55b922b",
   "metadata": {},
   "outputs": [
    {
     "data": {
      "text/plain": [
       "{0, 1, 2, 3, 4, 5, 6, 7, 8, 9}"
      ]
     },
     "execution_count": 75,
     "metadata": {},
     "output_type": "execute_result"
    }
   ],
   "source": [
    "# You have a concept of a set implemented in Python\n",
    "\n",
    "set(train_labels)"
   ]
  },
  {
   "cell_type": "markdown",
   "id": "2ec21da3-b730-48e1-9af7-93a01d9a8dd1",
   "metadata": {},
   "source": [
    "### Preprocessing the data"
   ]
  },
  {
   "cell_type": "markdown",
   "id": "6eef0e11-c4bb-44df-9872-57d2fb2401b1",
   "metadata": {},
   "source": [
    "An important problem in machine learning is to scale data to make numerical calculations stable. To illustrate the problem let us consider evaluation of the determinant of a certain covariance matrix (please, review the concept of determinant and covariance, if needed).\n",
    "\n",
    "Actually the chosen covariance matrix is related to our dataset. "
   ]
  },
  {
   "cell_type": "code",
   "execution_count": 76,
   "id": "444fcb7d-4f01-409b-ba6a-e39d44075dd7",
   "metadata": {},
   "outputs": [],
   "source": [
    "test_vectors_old = test_images_red2.reshape(10000,14*14) #'test_image_red2' was created in Task 3\n",
    "\n",
    "tshirt_vec_test_old=test_vectors_old[test_labels==0]\n",
    "\n",
    "tshirt_cov_test_old = np.cov(tshirt_vec_test_old.T)"
   ]
  },
  {
   "cell_type": "code",
   "execution_count": 77,
   "id": "99cc1e71-a508-4020-9c65-c336ad4d7516",
   "metadata": {},
   "outputs": [
    {
     "data": {
      "text/plain": [
       "inf"
      ]
     },
     "execution_count": 77,
     "metadata": {},
     "output_type": "execute_result"
    }
   ],
   "source": [
    "np.linalg.det(tshirt_cov_test_old) # Use the numpy linear algebra library to find the determinant."
   ]
  },
  {
   "cell_type": "code",
   "execution_count": 78,
   "id": "c8f30bdb-4532-451f-993e-94b9e9741115",
   "metadata": {},
   "outputs": [
    {
     "data": {
      "text/plain": [
       "8.373388002292804e+214"
      ]
     },
     "execution_count": 78,
     "metadata": {},
     "output_type": "execute_result"
    }
   ],
   "source": [
    "np.linalg.det(tshirt_cov_test_old/10) # Simple scaling fix the problem."
   ]
  },
  {
   "cell_type": "code",
   "execution_count": 79,
   "id": "e00cd6a7-1ba0-4e81-9376-1de91b69383d",
   "metadata": {},
   "outputs": [
    {
     "data": {
      "text/plain": [
       "8.373388002297951e+18"
      ]
     },
     "execution_count": 79,
     "metadata": {},
     "output_type": "execute_result"
    }
   ],
   "source": [
    "np.linalg.det(tshirt_cov_test_old/100)"
   ]
  },
  {
   "cell_type": "markdown",
   "id": "170c9664-cd50-4410-bacd-1cd9bffde8c7",
   "metadata": {},
   "source": [
    "Thus data usually need be preprocessed to avoid numerical problems. For the above problem a scaling into [0,1] is often a remedy. "
   ]
  },
  {
   "cell_type": "code",
   "execution_count": 80,
   "id": "8601ba4a-19ef-468e-bffe-abe9da6c4602",
   "metadata": {},
   "outputs": [
    {
     "name": "stdout",
     "output_type": "stream",
     "text": [
      "255.0\n",
      "0.0\n"
     ]
    }
   ],
   "source": [
    "max_val = np.max(train_images_red2.flatten())\n",
    "min_val = np.min(train_images_red2.flatten())\n",
    "print(max_val)\n",
    "print(min_val)"
   ]
  },
  {
   "cell_type": "markdown",
   "id": "64f20fa3-b24f-4f2a-85c5-bd2ca9ebff6a",
   "metadata": {},
   "source": [
    "As we see from above, the pixel values fall in the range of 0 to 255. Scale these values to a range of 0 to 1 before our statistical analysis. It's important that the training set and the testing set be preprocessed in the same way:"
   ]
  },
  {
   "cell_type": "code",
   "execution_count": 81,
   "id": "0e3c611d-6e40-4946-82a4-288891a87b15",
   "metadata": {},
   "outputs": [],
   "source": [
    "train_images_red2 = (train_images_red2 - min_val) / (max_val - min_val) #of course, dividing by 255 leads to the same outcome\n",
    "\n",
    "test_images_red2 = (test_images_red2 - min_val) / (max_val - min_val)"
   ]
  },
  {
   "cell_type": "markdown",
   "id": "d9e8fc2e-e493-4433-a481-d43636159a90",
   "metadata": {},
   "source": [
    "To verify that the data is in the correct format and that you're ready for the analysis, let's display the first 25 images from the training set and display the class name below each image."
   ]
  },
  {
   "cell_type": "code",
   "execution_count": 82,
   "id": "288031c7-1378-41de-aa62-130affa907e9",
   "metadata": {},
   "outputs": [
    {
     "data": {
      "image/png": "[encoded data removed]",
      "text/plain": [
       "<Figure size 1000x1000 with 25 Axes>"
      ]
     },
     "metadata": {},
     "output_type": "display_data"
    }
   ],
   "source": [
    "plt.figure(figsize=(10,10))\n",
    "for i in range(25):\n",
    "    plt.subplot(5,5,i+1)\n",
    "    plt.xticks([])\n",
    "    plt.yticks([])\n",
    "    plt.grid(False)\n",
    "    plt.imshow(train_images_red2[i], cmap=plt.cm.binary)\n",
    "    plt.xlabel(class_names[train_labels[i]])\n",
    "plt.show()"
   ]
  },
  {
   "cell_type": "markdown",
   "id": "1afb3b97-518b-4ee1-a20a-3ee43b97f4d2",
   "metadata": {},
   "source": [
    "### The Gaussian likelihood method for classification"
   ]
  },
  {
   "cell_type": "markdown",
   "id": "910dede5-cb31-4ff6-80b4-affd761a6156",
   "metadata": {},
   "source": [
    "After preparing the data we can now turn now to analyzing them. The method we explore today is the Gaussian likelihood method based classification. In this approach, we simply treat the data as high-dimensional vectors disregarding their spatial structure.\n",
    "\n",
    "We first learn how to reshape and subsample matrices (arrays)."
   ]
  },
  {
   "cell_type": "code",
   "execution_count": 83,
   "id": "ec73a17f-9ebb-4d3f-bf70-c58e47804f7a",
   "metadata": {},
   "outputs": [
    {
     "data": {
      "text/plain": [
       "array([[[0.00098039, 0.00196078],\n",
       "        [0.00098039, 0.00294118]],\n",
       "\n",
       "       [[0.82941176, 0.16176471],\n",
       "        [0.80784314, 0.88431373]],\n",
       "\n",
       "       [[0.18431373, 0.34215686],\n",
       "        [0.20980392, 0.34215686]],\n",
       "\n",
       "       [[0.56176471, 0.47745098],\n",
       "        [0.49803922, 0.49509804]],\n",
       "\n",
       "       [[0.52156863, 0.83823529],\n",
       "        [0.48235294, 0.84313725]],\n",
       "\n",
       "       [[0.45588235, 0.60588235],\n",
       "        [0.67941176, 0.68823529]],\n",
       "\n",
       "       [[0.00098039, 0.00098039],\n",
       "        [0.00098039, 0.00098039]],\n",
       "\n",
       "       [[0.88039216, 0.89607843],\n",
       "        [0.89215686, 0.89411765]],\n",
       "\n",
       "       [[0.00098039, 0.        ],\n",
       "        [0.        , 0.        ]],\n",
       "\n",
       "       [[0.        , 0.        ],\n",
       "        [0.        , 0.        ]]])"
      ]
     },
     "execution_count": 83,
     "metadata": {},
     "output_type": "execute_result"
    }
   ],
   "source": [
    "test=train_images_red2[0:10,4:6,4:6]\n",
    "test"
   ]
  },
  {
   "cell_type": "code",
   "execution_count": 84,
   "id": "9418e67a-5042-4606-b8ee-80095f067cc6",
   "metadata": {},
   "outputs": [
    {
     "data": {
      "text/plain": [
       "array([[0.00098039, 0.00196078, 0.00098039, 0.00294118],\n",
       "       [0.82941176, 0.16176471, 0.80784314, 0.88431373],\n",
       "       [0.18431373, 0.34215686, 0.20980392, 0.34215686],\n",
       "       [0.56176471, 0.47745098, 0.49803922, 0.49509804],\n",
       "       [0.52156863, 0.83823529, 0.48235294, 0.84313725],\n",
       "       [0.45588235, 0.60588235, 0.67941176, 0.68823529],\n",
       "       [0.00098039, 0.00098039, 0.00098039, 0.00098039],\n",
       "       [0.88039216, 0.89607843, 0.89215686, 0.89411765],\n",
       "       [0.00098039, 0.        , 0.        , 0.        ],\n",
       "       [0.        , 0.        , 0.        , 0.        ]])"
      ]
     },
     "execution_count": 84,
     "metadata": {},
     "output_type": "execute_result"
    }
   ],
   "source": [
    "test2=test.reshape(10,4) # Reshape to vectors\n",
    "test2"
   ]
  },
  {
   "cell_type": "code",
   "execution_count": 85,
   "id": "81ae7073-3477-4777-8ab4-dcd023c3b44a",
   "metadata": {},
   "outputs": [
    {
     "name": "stdout",
     "output_type": "stream",
     "text": [
      "(6000, 2, 2)\n"
     ]
    }
   ],
   "source": [
    "len(train_labels)\n",
    "tshirt=train_labels==0\n",
    "tshirt_images=train_images_red2[tshirt,0:2,0:2]\n",
    "print(tshirt_images.shape)"
   ]
  },
  {
   "cell_type": "markdown",
   "id": "5411afe2-fe01-4176-bd17-9bdd354e38d4",
   "metadata": {},
   "source": [
    "### Task 4"
   ]
  },
  {
   "cell_type": "markdown",
   "id": "93f65c58-da9b-4b07-b514-bc713587402f",
   "metadata": {},
   "source": [
    "Reschape the original data to vectors and compute covariances and the means within each of ten classes. Plot the \"average\" object from each class. Use for your computation only the training data. "
   ]
  },
  {
   "cell_type": "code",
   "execution_count": 86,
   "id": "c00dc9cd",
   "metadata": {},
   "outputs": [
    {
     "data": {
      "image/png": "[encoded data removed]",
      "text/plain": [
       "<Figure size 1500x1500 with 10 Axes>"
      ]
     },
     "metadata": {},
     "output_type": "display_data"
    }
   ],
   "source": [
    "# Constants\n",
    "num_classes = 10\n",
    "image_size = 14  # After reduction\n",
    "\n",
    "# Reshape the training images to vectors\n",
    "train_images_vectors = train_images_red2.reshape(train_images_red2.shape[0], -1)\n",
    "\n",
    "# Initialize lists to hold the means and covariances\n",
    "class_means = []\n",
    "class_covariances = []\n",
    "\n",
    "# Compute means and covariances for each class\n",
    "for i in range(num_classes):\n",
    "    # Extract images for class i\n",
    "    class_images = train_images_vectors[train_labels == i]\n",
    "    \n",
    "    # Compute the mean vector and covariance matrix for class i\n",
    "    mean_vector = np.mean(class_images, axis=0)\n",
    "    covariance_matrix = np.cov(class_images, rowvar=False)\n",
    "    \n",
    "    # Append to the lists\n",
    "    class_means.append(mean_vector)\n",
    "    class_covariances.append(covariance_matrix)\n",
    "\n",
    "# Plot the \"average\" image for each class\n",
    "fig, axes = plt.subplots(1, num_classes, figsize=(15, 15))\n",
    "for i in range(num_classes):\n",
    "    # Reshape the mean vector to the original image size and plot\n",
    "    mean_image = class_means[i].reshape(image_size, image_size)\n",
    "    axes[i].imshow(mean_image, cmap='gray')\n",
    "    axes[i].set_title('Class: {}'.format(i))\n",
    "    axes[i].axis('off')\n",
    "\n",
    "plt.tight_layout()\n",
    "plt.show()"
   ]
  },
  {
   "cell_type": "markdown",
   "id": "b6610b70-26c7-41fb-a969-f89c79843c3e",
   "metadata": {},
   "source": [
    "### Task 5"
   ]
  },
  {
   "cell_type": "markdown",
   "id": "fa649d87-2ef8-4a38-ac5c-8c58d4567c2a",
   "metadata": {},
   "source": [
    "Utilize the computed means and covariances to write a function that for a given image classifies it into one of the ten classes that is based on the maximum Gaussian likelihood principle. Check how this classifier performs on few selected images. \n",
    "\n",
    "As you could see, the certain regions of images could always be blank, which is a source of the singularity in the data. You may use the following function to solve the problem of singularity:"
   ]
  },
  {
   "cell_type": "code",
   "execution_count": 43,
   "id": "701c713d",
   "metadata": {},
   "outputs": [
    {
     "data": {
      "text/plain": [
       "[7, 2, 1, 1, 2, 1, 4, 4, 7, 7]"
      ]
     },
     "execution_count": 43,
     "metadata": {},
     "output_type": "execute_result"
    }
   ],
   "source": [
    "from scipy.stats import multivariate_normal\n",
    "\n",
    "def preceigval(Sigma):\n",
    "    sigma2 = np.diag(Sigma)\n",
    "    d = len(sigma2)\n",
    "    w, v = np.linalg.eig(Sigma)\n",
    "    if min(sigma2) <= 1e-10 or min(w) <= 1e-10:  # to protect against singularities\n",
    "        delta = min(sigma2[sigma2 > 1e-10])\n",
    "        Sigma = Sigma + delta * np.identity(d)\n",
    "    return Sigma\n",
    "\n",
    "def classify_image(image, class_means, class_covariances):\n",
    "    # Reshape the image into a vector\n",
    "    image_vector = image.reshape(-1)\n",
    "    likelihoods = []\n",
    "    \n",
    "    for i in range(num_classes):\n",
    "        # Regularize the covariance matrix\n",
    "        Sigma = preceigval(class_covariances[i])\n",
    "        \n",
    "        # Initialize the multivariate normal distribution for class i\n",
    "        mvn = multivariate_normal(mean=class_means[i], cov=Sigma, allow_singular=True)\n",
    "        \n",
    "        # Compute the likelihood of the image under class i\n",
    "        likelihood = mvn.pdf(image_vector)\n",
    "        likelihoods.append(likelihood)\n",
    "    \n",
    "    # Return the class with the highest likelihood\n",
    "    return np.argmax(likelihoods)\n",
    "\n",
    "# Now check the classifier performance on few selected images\n",
    "num_test_images = 10\n",
    "test_images_sample = test_images_red2[:num_test_images]\n",
    "classified_labels = []\n",
    "\n",
    "for image in test_images_sample:\n",
    "    classified_label = classify_image(image, class_means, class_covariances)\n",
    "    classified_labels.append(classified_label)\n",
    "\n",
    "# Print out the classified labels for the sample\n",
    "classified_labels\n"
   ]
  },
  {
   "cell_type": "markdown",
   "id": "ad805aa5-2667-4cf1-80b6-679fce59b354",
   "metadata": {},
   "source": [
    "### Task 6"
   ]
  },
  {
   "cell_type": "markdown",
   "id": "c95d0d44-6fb4-462b-8a76-df62badb7149",
   "metadata": {},
   "source": [
    "Here you should do more thoroughful evaluation of the ML method. Evaluate first how the classifier performs on the training dataset by evaluating the classification accuracy. Then do the same on the testing data set. Note that it may take some time. Compare the results and comment."
   ]
  },
  {
   "cell_type": "code",
   "execution_count": 44,
   "id": "e9e6594f",
   "metadata": {},
   "outputs": [
    {
     "data": {
      "text/plain": [
       "(0.6608333333333334, 0.666)"
      ]
     },
     "execution_count": 44,
     "metadata": {},
     "output_type": "execute_result"
    }
   ],
   "source": [
    "def evaluate_accuracy_subset(images, labels, class_means, class_covariances, subset_ratio=0.1):\n",
    "    # Determine the size of the subset\n",
    "    subset_size = int(len(images) * subset_ratio)\n",
    "    \n",
    "    # Create a random subset of indices\n",
    "    subset_indices = np.random.choice(len(images), subset_size, replace=False)\n",
    "    \n",
    "    # Initialize count of correct predictions\n",
    "    correct_predictions = 0\n",
    "    \n",
    "    # Evaluate accuracy on the subset\n",
    "    for i in subset_indices:\n",
    "        predicted_class = classify_image(images[i], class_means, class_covariances)\n",
    "        if predicted_class == labels[i]:\n",
    "            correct_predictions += 1\n",
    "    \n",
    "    # Calculate accuracy as the percentage of correctly predicted images\n",
    "    accuracy = correct_predictions / subset_size\n",
    "    return accuracy\n",
    "\n",
    "# Evaluate classification accuracy on a 10% subset of the training dataset\n",
    "train_accuracy_subset = evaluate_accuracy_subset(train_images_red2, train_labels, class_means, class_covariances)\n",
    "\n",
    "# Evaluate classification accuracy on a 10% subset of the testing dataset\n",
    "test_accuracy_subset = evaluate_accuracy_subset(test_images_red2, test_labels, class_means, class_covariances)\n",
    "\n",
    "(train_accuracy_subset, test_accuracy_subset)\n",
    "\n"
   ]
  },
  {
   "cell_type": "markdown",
   "id": "07b0705c",
   "metadata": {},
   "source": [
    "The code performs an evaluation of the accuracy of a Gaussian likelihood-based classifier on two subsets, each representing 10% of the original training and testing datasets of the Fashion MNIST images. The classifier uses precomputed class means and covariance matrices to predict the class of each image based on which class's distribution the image is most likely to come from.\n",
    "\n",
    "By evaluating on only 10% of the data, the process becomes much faster, providing a quick approximation of the classifier's performance. However, this approach has several drawbacks. Most notably, the reduced sample size may not be representative of the entire dataset, potentially introducing sample bias. The randomness in selecting the subset can affect the reliability and repeatability of the accuracy measurement, meaning different runs may yield different results. This approach might miss out on capturing the full complexity and diversity of the data, possibly overlooking certain patterns or anomalies that could be crucial for understanding the classifier's performance. As such, the obtained accuracy figures of approximately 66% for both training and testing sets should be taken as estimations rather than definitive metrics of performance."
   ]
  }
 ],
 "metadata": {
  "kernelspec": {
   "display_name": "Python 3 (ipykernel)",
   "language": "python",
   "name": "python3"
  },
  "language_info": {
   "codemirror_mode": {
    "name": "ipython",
    "version": 3
   },
   "file_extension": ".py",
   "mimetype": "text/x-python",
   "name": "python",
   "nbconvert_exporter": "python",
   "pygments_lexer": "ipython3",
   "version": "3.10.9"
  }
 },
 "nbformat": 4,
 "nbformat_minor": 5
}
